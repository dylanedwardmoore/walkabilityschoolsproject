{
 "cells": [
  {
   "cell_type": "code",
   "execution_count": 1,
   "id": "69af87c4",
   "metadata": {},
   "outputs": [
    {
     "name": "stderr",
     "output_type": "stream",
     "text": [
      "Loading required package: nlme\n",
      "This is mgcv 1.8-28. For overview type 'help(\"mgcv-package\")'.\n",
      "\n",
      "Attaching package: ‘mgcv’\n",
      "\n",
      "The following object is masked from ‘package:aod’:\n",
      "\n",
      "    negbin\n",
      "\n",
      "\n",
      "Please cite as: \n",
      "\n",
      " Hlavac, Marek (2018). stargazer: Well-Formatted Regression and Summary Statistics Tables.\n",
      " R package version 5.2.2. https://CRAN.R-project.org/package=stargazer \n",
      "\n",
      "\n",
      "Attaching package: ‘dplyr’\n",
      "\n",
      "The following object is masked from ‘package:nlme’:\n",
      "\n",
      "    collapse\n",
      "\n",
      "The following objects are masked from ‘package:plyr’:\n",
      "\n",
      "    arrange, count, desc, failwith, id, mutate, rename, summarise,\n",
      "    summarize\n",
      "\n",
      "The following objects are masked from ‘package:stats’:\n",
      "\n",
      "    filter, lag\n",
      "\n",
      "The following objects are masked from ‘package:base’:\n",
      "\n",
      "    intersect, setdiff, setequal, union\n",
      "\n",
      "corrplot 0.84 loaded\n",
      "\n",
      "Attaching package: ‘purrr’\n",
      "\n",
      "The following object is masked from ‘package:plyr’:\n",
      "\n",
      "    compact\n",
      "\n",
      "Registered S3 methods overwritten by 'ggplot2':\n",
      "  method         from \n",
      "  [.quosures     rlang\n",
      "  c.quosures     rlang\n",
      "  print.quosures rlang\n"
     ]
    }
   ],
   "source": [
    "## Import packages\n",
    "library(aod)\n",
    "library(plyr)\n",
    "library(mgcv)\n",
    "library(stringr)\n",
    "library(stargazer)\n",
    "library(dplyr)\n",
    "library(corrplot)\n",
    "library(purrr)\n",
    "library(ggplot2)\n"
   ]
  },
  {
   "cell_type": "markdown",
   "id": "96a4ee9b",
   "metadata": {},
   "source": [
    "## Prepare dataframe"
   ]
  },
  {
   "cell_type": "markdown",
   "id": "675b059e",
   "metadata": {},
   "source": [
    "### Public School Location Data"
   ]
  },
  {
   "cell_type": "code",
   "execution_count": 55,
   "id": "6cbd4107",
   "metadata": {},
   "outputs": [
    {
     "data": {
      "text/html": [
       "<table>\n",
       "<thead><tr><th scope=col>School</th><th scope=col>Charter</th><th scope=col>Latitude</th><th scope=col>Longitude</th><th scope=col>EILName</th><th scope=col>District</th></tr></thead>\n",
       "<tbody>\n",
       "\t<tr><td>Community School for Creative Education</td><td>Y                                      </td><td>37.784648                              </td><td>-122.23863                             </td><td>Elementary                             </td><td>Alameda County Office of Education     </td></tr>\n",
       "\t<tr><td>Yu Ming Charter                        </td><td>Y                                      </td><td>37.847375                              </td><td>-122.28356                             </td><td>Elementary                             </td><td>Alameda County Office of Education     </td></tr>\n",
       "\t<tr><td>Urban Montessori Charter               </td><td>Y                                      </td><td>37.786794                              </td><td>-122.18817                             </td><td>Elementary                             </td><td>Alameda County Office of Education     </td></tr>\n",
       "\t<tr><td>Hayward Collegiate Charter             </td><td>Y                                      </td><td>37.648124                              </td><td>-122.08239                             </td><td>Elementary                             </td><td>Alameda County Office of Education     </td></tr>\n",
       "\t<tr><td>Cox Academy                            </td><td>Y                                      </td><td>37.746513                              </td><td>-122.16182                             </td><td>Elementary                             </td><td>Alameda County Office of Education     </td></tr>\n",
       "\t<tr><td>Lazear Charter Academy                 </td><td>Y                                      </td><td>37.776239                              </td><td>-122.23207                             </td><td>Elementary                             </td><td>Alameda County Office of Education     </td></tr>\n",
       "</tbody>\n",
       "</table>\n"
      ],
      "text/latex": [
       "\\begin{tabular}{r|llllll}\n",
       " School & Charter & Latitude & Longitude & EILName & District\\\\\n",
       "\\hline\n",
       "\t Community School for Creative Education & Y                                       & 37.784648                               & -122.23863                              & Elementary                              & Alameda County Office of Education     \\\\\n",
       "\t Yu Ming Charter                         & Y                                       & 37.847375                               & -122.28356                              & Elementary                              & Alameda County Office of Education     \\\\\n",
       "\t Urban Montessori Charter                & Y                                       & 37.786794                               & -122.18817                              & Elementary                              & Alameda County Office of Education     \\\\\n",
       "\t Hayward Collegiate Charter              & Y                                       & 37.648124                               & -122.08239                              & Elementary                              & Alameda County Office of Education     \\\\\n",
       "\t Cox Academy                             & Y                                       & 37.746513                               & -122.16182                              & Elementary                              & Alameda County Office of Education     \\\\\n",
       "\t Lazear Charter Academy                  & Y                                       & 37.776239                               & -122.23207                              & Elementary                              & Alameda County Office of Education     \\\\\n",
       "\\end{tabular}\n"
      ],
      "text/markdown": [
       "\n",
       "| School | Charter | Latitude | Longitude | EILName | District |\n",
       "|---|---|---|---|---|---|\n",
       "| Community School for Creative Education | Y                                       | 37.784648                               | -122.23863                              | Elementary                              | Alameda County Office of Education      |\n",
       "| Yu Ming Charter                         | Y                                       | 37.847375                               | -122.28356                              | Elementary                              | Alameda County Office of Education      |\n",
       "| Urban Montessori Charter                | Y                                       | 37.786794                               | -122.18817                              | Elementary                              | Alameda County Office of Education      |\n",
       "| Hayward Collegiate Charter              | Y                                       | 37.648124                               | -122.08239                              | Elementary                              | Alameda County Office of Education      |\n",
       "| Cox Academy                             | Y                                       | 37.746513                               | -122.16182                              | Elementary                              | Alameda County Office of Education      |\n",
       "| Lazear Charter Academy                  | Y                                       | 37.776239                               | -122.23207                              | Elementary                              | Alameda County Office of Education      |\n",
       "\n"
      ],
      "text/plain": [
       "  School                                  Charter Latitude  Longitude \n",
       "1 Community School for Creative Education Y       37.784648 -122.23863\n",
       "2 Yu Ming Charter                         Y       37.847375 -122.28356\n",
       "3 Urban Montessori Charter                Y       37.786794 -122.18817\n",
       "4 Hayward Collegiate Charter              Y       37.648124 -122.08239\n",
       "5 Cox Academy                             Y       37.746513 -122.16182\n",
       "6 Lazear Charter Academy                  Y       37.776239 -122.23207\n",
       "  EILName    District                          \n",
       "1 Elementary Alameda County Office of Education\n",
       "2 Elementary Alameda County Office of Education\n",
       "3 Elementary Alameda County Office of Education\n",
       "4 Elementary Alameda County Office of Education\n",
       "5 Elementary Alameda County Office of Education\n",
       "6 Elementary Alameda County Office of Education"
      ]
     },
     "metadata": {},
     "output_type": "display_data"
    }
   ],
   "source": [
    "public_school_location_info = read.csv(\"public_school_location_info.csv\")\n",
    "# colnames(public_school_location_info)\n",
    "public_school_location_info = select(public_school_location_info, \"School\", \"Charter\", \"Latitude\", \"Longitude\", \"EILName\", \"District\")\n",
    "public_school_location_info <- filter(public_school_location_info, Latitude != 'No Data' & Longitude != 'No Data' & EILName == 'Elementary' & School != 'No Data')\n",
    "head(public_school_location_info)"
   ]
  },
  {
   "cell_type": "markdown",
   "id": "257c0224",
   "metadata": {},
   "source": [
    "### SEDA Data for public schools"
   ]
  },
  {
   "cell_type": "code",
   "execution_count": 56,
   "id": "a1d990e0",
   "metadata": {
    "scrolled": true
   },
   "outputs": [
    {
     "data": {
      "text/html": [
       "'Omitted 2339 rows by removing anything with NA values'"
      ],
      "text/latex": [
       "'Omitted 2339 rows by removing anything with NA values'"
      ],
      "text/markdown": [
       "'Omitted 2339 rows by removing anything with NA values'"
      ],
      "text/plain": [
       "[1] \"Omitted 2339 rows by removing anything with NA values\""
      ]
     },
     "metadata": {},
     "output_type": "display_data"
    },
    {
     "data": {
      "text/html": [
       "<table>\n",
       "<thead><tr><th></th><th scope=col>stateabb</th><th scope=col>tot_asmts</th><th scope=col>cs_mn_avg_ol</th><th scope=col>cs_mn_coh_ol</th><th scope=col>cs_mn_grd_ol</th><th scope=col>cs_mn_mth_ol</th><th scope=col>cs_mn_avg_ol_se</th><th scope=col>cs_mn_coh_ol_se</th><th scope=col>cs_mn_grd_ol_se</th><th scope=col>cs_mn_mth_ol_se</th><th scope=col>cs_mn_avg_eb</th><th scope=col>cs_mn_coh_eb</th><th scope=col>cs_mn_grd_eb</th><th scope=col>cs_mn_mth_eb</th><th scope=col>cs_mn_avg_eb_se</th><th scope=col>cs_mn_coh_eb_se</th><th scope=col>cs_mn_grd_eb_se</th><th scope=col>cs_mn_mth_eb_se</th><th scope=col>School</th></tr></thead>\n",
       "<tbody>\n",
       "\t<tr><th scope=row>2</th><td>CA                    </td><td>3815                  </td><td>-0.2057509            </td><td>-0.002543360          </td><td> 0.04510366           </td><td>-0.12993206           </td><td>0.02712490            </td><td>0.008901680           </td><td>0.03400741            </td><td>0.05401088            </td><td>-0.2050351            </td><td>-0.002486500          </td><td> 0.034018458          </td><td>-0.1123695            </td><td>0.02705193            </td><td>0.008588411           </td><td>0.02936181            </td><td>0.05006016            </td><td>Meadowlark Elementary </td></tr>\n",
       "\t<tr><th scope=row>3</th><td>CA                    </td><td>4383                  </td><td>-0.1945876            </td><td> 0.016586582          </td><td> 0.01278513           </td><td>-0.17509063           </td><td>0.02921618            </td><td>0.010488541           </td><td>0.03369059            </td><td>0.06146289            </td><td>-0.1905063            </td><td> 0.013795592          </td><td> 0.015360364          </td><td>-0.1447053            </td><td>0.02891944            </td><td>0.009849191           </td><td>0.02889895            </td><td>0.05554290            </td><td>High Desert           </td></tr>\n",
       "\t<tr><th scope=row>5</th><td>CA                    </td><td>3189                  </td><td> 0.2052310            </td><td> 0.003285205          </td><td> 0.11761112           </td><td>-0.32920201           </td><td>0.02793839            </td><td>0.009558235           </td><td>0.03513335            </td><td>0.05572500            </td><td> 0.2032434            </td><td> 0.003160816          </td><td> 0.085764398          </td><td>-0.2772184            </td><td>0.02788258            </td><td>0.009170558           </td><td>0.03017293            </td><td>0.05143605            </td><td>Manor Elementary      </td></tr>\n",
       "\t<tr><th scope=row>6</th><td>CA                    </td><td>8468                  </td><td> 0.5612020            </td><td> 0.022074864          </td><td>-0.01224602           </td><td>-0.22112266           </td><td>0.02992426            </td><td>0.009409591           </td><td>0.03570866            </td><td>0.05851852            </td><td> 0.5661908            </td><td> 0.020250401          </td><td>-0.002238481          </td><td>-0.1817763            </td><td>0.02922588            </td><td>0.009009090           </td><td>0.03047804            </td><td>0.05344632            </td><td>White Hill Middle     </td></tr>\n",
       "\t<tr><th scope=row>7</th><td>CA                    </td><td>3422                  </td><td> 0.8283346            </td><td> 0.058297468          </td><td> 0.08678017           </td><td>-0.09832165           </td><td>0.03206196            </td><td>0.009972555           </td><td>0.04028447            </td><td>0.06313811            </td><td> 0.8220252            </td><td> 0.054241424          </td><td> 0.071037997          </td><td>-0.0738407            </td><td>0.03188546            </td><td>0.009535340           </td><td>0.03315735            </td><td>0.05706946            </td><td>Brookside Elementary  </td></tr>\n",
       "\t<tr><th scope=row>8</th><td>CA                    </td><td>3079                  </td><td> 0.6144864            </td><td> 0.056051793          </td><td> 0.18685540           </td><td>-0.22761354           </td><td>0.02863086            </td><td>0.009510926           </td><td>0.03545272            </td><td>0.05726117            </td><td> 0.6096649            </td><td> 0.052356484          </td><td> 0.145065694          </td><td>-0.1873351            </td><td>0.02856221            </td><td>0.009130468           </td><td>0.03034412            </td><td>0.05264635            </td><td>Wade Thomas Elementary</td></tr>\n",
       "</tbody>\n",
       "</table>\n"
      ],
      "text/latex": [
       "\\begin{tabular}{r|lllllllllllllllllll}\n",
       "  & stateabb & tot\\_asmts & cs\\_mn\\_avg\\_ol & cs\\_mn\\_coh\\_ol & cs\\_mn\\_grd\\_ol & cs\\_mn\\_mth\\_ol & cs\\_mn\\_avg\\_ol\\_se & cs\\_mn\\_coh\\_ol\\_se & cs\\_mn\\_grd\\_ol\\_se & cs\\_mn\\_mth\\_ol\\_se & cs\\_mn\\_avg\\_eb & cs\\_mn\\_coh\\_eb & cs\\_mn\\_grd\\_eb & cs\\_mn\\_mth\\_eb & cs\\_mn\\_avg\\_eb\\_se & cs\\_mn\\_coh\\_eb\\_se & cs\\_mn\\_grd\\_eb\\_se & cs\\_mn\\_mth\\_eb\\_se & School\\\\\n",
       "\\hline\n",
       "\t2 & CA                     & 3815                   & -0.2057509             & -0.002543360           &  0.04510366            & -0.12993206            & 0.02712490             & 0.008901680            & 0.03400741             & 0.05401088             & -0.2050351             & -0.002486500           &  0.034018458           & -0.1123695             & 0.02705193             & 0.008588411            & 0.02936181             & 0.05006016             & Meadowlark Elementary \\\\\n",
       "\t3 & CA                     & 4383                   & -0.1945876             &  0.016586582           &  0.01278513            & -0.17509063            & 0.02921618             & 0.010488541            & 0.03369059             & 0.06146289             & -0.1905063             &  0.013795592           &  0.015360364           & -0.1447053             & 0.02891944             & 0.009849191            & 0.02889895             & 0.05554290             & High Desert           \\\\\n",
       "\t5 & CA                     & 3189                   &  0.2052310             &  0.003285205           &  0.11761112            & -0.32920201            & 0.02793839             & 0.009558235            & 0.03513335             & 0.05572500             &  0.2032434             &  0.003160816           &  0.085764398           & -0.2772184             & 0.02788258             & 0.009170558            & 0.03017293             & 0.05143605             & Manor Elementary      \\\\\n",
       "\t6 & CA                     & 8468                   &  0.5612020             &  0.022074864           & -0.01224602            & -0.22112266            & 0.02992426             & 0.009409591            & 0.03570866             & 0.05851852             &  0.5661908             &  0.020250401           & -0.002238481           & -0.1817763             & 0.02922588             & 0.009009090            & 0.03047804             & 0.05344632             & White Hill Middle     \\\\\n",
       "\t7 & CA                     & 3422                   &  0.8283346             &  0.058297468           &  0.08678017            & -0.09832165            & 0.03206196             & 0.009972555            & 0.04028447             & 0.06313811             &  0.8220252             &  0.054241424           &  0.071037997           & -0.0738407             & 0.03188546             & 0.009535340            & 0.03315735             & 0.05706946             & Brookside Elementary  \\\\\n",
       "\t8 & CA                     & 3079                   &  0.6144864             &  0.056051793           &  0.18685540            & -0.22761354            & 0.02863086             & 0.009510926            & 0.03545272             & 0.05726117             &  0.6096649             &  0.052356484           &  0.145065694           & -0.1873351             & 0.02856221             & 0.009130468            & 0.03034412             & 0.05264635             & Wade Thomas Elementary\\\\\n",
       "\\end{tabular}\n"
      ],
      "text/markdown": [
       "\n",
       "| <!--/--> | stateabb | tot_asmts | cs_mn_avg_ol | cs_mn_coh_ol | cs_mn_grd_ol | cs_mn_mth_ol | cs_mn_avg_ol_se | cs_mn_coh_ol_se | cs_mn_grd_ol_se | cs_mn_mth_ol_se | cs_mn_avg_eb | cs_mn_coh_eb | cs_mn_grd_eb | cs_mn_mth_eb | cs_mn_avg_eb_se | cs_mn_coh_eb_se | cs_mn_grd_eb_se | cs_mn_mth_eb_se | School |\n",
       "|---|---|---|---|---|---|---|---|---|---|---|---|---|---|---|---|---|---|---|---|\n",
       "| 2 | CA                     | 3815                   | -0.2057509             | -0.002543360           |  0.04510366            | -0.12993206            | 0.02712490             | 0.008901680            | 0.03400741             | 0.05401088             | -0.2050351             | -0.002486500           |  0.034018458           | -0.1123695             | 0.02705193             | 0.008588411            | 0.02936181             | 0.05006016             | Meadowlark Elementary  |\n",
       "| 3 | CA                     | 4383                   | -0.1945876             |  0.016586582           |  0.01278513            | -0.17509063            | 0.02921618             | 0.010488541            | 0.03369059             | 0.06146289             | -0.1905063             |  0.013795592           |  0.015360364           | -0.1447053             | 0.02891944             | 0.009849191            | 0.02889895             | 0.05554290             | High Desert            |\n",
       "| 5 | CA                     | 3189                   |  0.2052310             |  0.003285205           |  0.11761112            | -0.32920201            | 0.02793839             | 0.009558235            | 0.03513335             | 0.05572500             |  0.2032434             |  0.003160816           |  0.085764398           | -0.2772184             | 0.02788258             | 0.009170558            | 0.03017293             | 0.05143605             | Manor Elementary       |\n",
       "| 6 | CA                     | 8468                   |  0.5612020             |  0.022074864           | -0.01224602            | -0.22112266            | 0.02992426             | 0.009409591            | 0.03570866             | 0.05851852             |  0.5661908             |  0.020250401           | -0.002238481           | -0.1817763             | 0.02922588             | 0.009009090            | 0.03047804             | 0.05344632             | White Hill Middle      |\n",
       "| 7 | CA                     | 3422                   |  0.8283346             |  0.058297468           |  0.08678017            | -0.09832165            | 0.03206196             | 0.009972555            | 0.04028447             | 0.06313811             |  0.8220252             |  0.054241424           |  0.071037997           | -0.0738407             | 0.03188546             | 0.009535340            | 0.03315735             | 0.05706946             | Brookside Elementary   |\n",
       "| 8 | CA                     | 3079                   |  0.6144864             |  0.056051793           |  0.18685540            | -0.22761354            | 0.02863086             | 0.009510926            | 0.03545272             | 0.05726117             |  0.6096649             |  0.052356484           |  0.145065694           | -0.1873351             | 0.02856221             | 0.009130468            | 0.03034412             | 0.05264635             | Wade Thomas Elementary |\n",
       "\n"
      ],
      "text/plain": [
       "  stateabb tot_asmts cs_mn_avg_ol cs_mn_coh_ol cs_mn_grd_ol cs_mn_mth_ol\n",
       "2 CA       3815      -0.2057509   -0.002543360  0.04510366  -0.12993206 \n",
       "3 CA       4383      -0.1945876    0.016586582  0.01278513  -0.17509063 \n",
       "5 CA       3189       0.2052310    0.003285205  0.11761112  -0.32920201 \n",
       "6 CA       8468       0.5612020    0.022074864 -0.01224602  -0.22112266 \n",
       "7 CA       3422       0.8283346    0.058297468  0.08678017  -0.09832165 \n",
       "8 CA       3079       0.6144864    0.056051793  0.18685540  -0.22761354 \n",
       "  cs_mn_avg_ol_se cs_mn_coh_ol_se cs_mn_grd_ol_se cs_mn_mth_ol_se cs_mn_avg_eb\n",
       "2 0.02712490      0.008901680     0.03400741      0.05401088      -0.2050351  \n",
       "3 0.02921618      0.010488541     0.03369059      0.06146289      -0.1905063  \n",
       "5 0.02793839      0.009558235     0.03513335      0.05572500       0.2032434  \n",
       "6 0.02992426      0.009409591     0.03570866      0.05851852       0.5661908  \n",
       "7 0.03206196      0.009972555     0.04028447      0.06313811       0.8220252  \n",
       "8 0.02863086      0.009510926     0.03545272      0.05726117       0.6096649  \n",
       "  cs_mn_coh_eb cs_mn_grd_eb cs_mn_mth_eb cs_mn_avg_eb_se cs_mn_coh_eb_se\n",
       "2 -0.002486500  0.034018458 -0.1123695   0.02705193      0.008588411    \n",
       "3  0.013795592  0.015360364 -0.1447053   0.02891944      0.009849191    \n",
       "5  0.003160816  0.085764398 -0.2772184   0.02788258      0.009170558    \n",
       "6  0.020250401 -0.002238481 -0.1817763   0.02922588      0.009009090    \n",
       "7  0.054241424  0.071037997 -0.0738407   0.03188546      0.009535340    \n",
       "8  0.052356484  0.145065694 -0.1873351   0.02856221      0.009130468    \n",
       "  cs_mn_grd_eb_se cs_mn_mth_eb_se School                \n",
       "2 0.02936181      0.05006016      Meadowlark Elementary \n",
       "3 0.02889895      0.05554290      High Desert           \n",
       "5 0.03017293      0.05143605      Manor Elementary      \n",
       "6 0.03047804      0.05344632      White Hill Middle     \n",
       "7 0.03315735      0.05706946      Brookside Elementary  \n",
       "8 0.03034412      0.05264635      Wade Thomas Elementary"
      ]
     },
     "metadata": {},
     "output_type": "display_data"
    }
   ],
   "source": [
    "seda_data_for_public_schools = read.csv(\"seda_school_pool_cs_4.1.csv\")\n",
    "# colnames(seda_data_for_public_schools)\n",
    "seda_data_for_public_schools = select(seda_data_for_public_schools, -\"sedasch\", -\"fips\", -\"subcat\", -\"subgroup\", -\"gradecenter\", -\"gap\", -\"cellcount\", -\"mn_asmts\")\n",
    "seda_data_for_public_schools$School <- seda_data_for_public_schools$sedaschname\n",
    "seda_data_for_public_schools = select(seda_data_for_public_schools, -\"sedaschname\")\n",
    "seda_data_for_public_schools <- filter(seda_data_for_public_schools, stateabb == 'CA')\n",
    "before = nrow(seda_data_for_public_schools)\n",
    "seda_data_for_public_schools = na.omit(seda_data_for_public_schools)\n",
    "after = nrow(seda_data_for_public_schools)\n",
    "str_interp(\"Omitted $[.f]{before - after} rows by removing anything with NA values\")\n",
    "head(seda_data_for_public_schools)"
   ]
  },
  {
   "cell_type": "markdown",
   "id": "4cb0c3f4",
   "metadata": {},
   "source": [
    "### Merge \"Public School Location Data\" & \"SEDA Data for public schools\""
   ]
  },
  {
   "cell_type": "code",
   "execution_count": 58,
   "id": "3177e8f6",
   "metadata": {},
   "outputs": [
    {
     "data": {
      "text/html": [
       "<table>\n",
       "<thead><tr><th scope=col>School</th><th scope=col>stateabb</th><th scope=col>tot_asmts</th><th scope=col>cs_mn_avg_ol</th><th scope=col>cs_mn_coh_ol</th><th scope=col>cs_mn_grd_ol</th><th scope=col>cs_mn_mth_ol</th><th scope=col>cs_mn_avg_ol_se</th><th scope=col>cs_mn_coh_ol_se</th><th scope=col>cs_mn_grd_ol_se</th><th scope=col>...</th><th scope=col>cs_mn_mth_eb</th><th scope=col>cs_mn_avg_eb_se</th><th scope=col>cs_mn_coh_eb_se</th><th scope=col>cs_mn_grd_eb_se</th><th scope=col>cs_mn_mth_eb_se</th><th scope=col>Charter</th><th scope=col>Latitude</th><th scope=col>Longitude</th><th scope=col>EILName</th><th scope=col>District</th></tr></thead>\n",
       "<tbody>\n",
       "\t<tr><td>A. E. Arnold Elementary    </td><td>CA                         </td><td>7593                       </td><td> 0.2559182                 </td><td> 0.021824821               </td><td>0.066488788                </td><td>-0.01646314                </td><td>0.02229070                 </td><td>0.007333276                </td><td>0.02117757                 </td><td>...                        </td><td>-0.01316489                </td><td>0.02225694                 </td><td>0.007150848                </td><td>0.01997353                 </td><td>0.04221594                 </td><td>N                          </td><td>33.826825                  </td><td>-118.05576                 </td><td>Elementary                 </td><td>Cypress Elementary         </td></tr>\n",
       "\t<tr><td>A. G. Cook Elementary      </td><td>CA                         </td><td>3802                       </td><td> 0.3072644                 </td><td> 0.106203990               </td><td>0.075156635                </td><td> 0.18127809                </td><td>0.02423982                 </td><td>0.008039868                </td><td>0.02282817                 </td><td>...                        </td><td> 0.16067999                </td><td>0.02420183                 </td><td>0.007805582                </td><td>0.02133288                 </td><td>0.04549659                 </td><td>N                          </td><td>33.763632                  </td><td>-117.95840                 </td><td>Elementary                 </td><td>Garden Grove Unified       </td></tr>\n",
       "\t<tr><td>A. J. Dorsa Elementary     </td><td>CA                         </td><td>4459                       </td><td>-0.5904406                 </td><td>-0.009485188               </td><td>0.073868214                </td><td> 0.08848730                </td><td>0.02746552                 </td><td>0.009225629                </td><td>0.03411214                 </td><td>...                        </td><td> 0.07351242                </td><td>0.02740213                 </td><td>0.008876019                </td><td>0.02948585                 </td><td>0.05056527                 </td><td>N                          </td><td>37.339098                  </td><td>-121.83791                 </td><td>Elementary                 </td><td>Alum Rock Union Elementary </td></tr>\n",
       "\t<tr><td>A. L. Conner Elementary    </td><td>CA                         </td><td>3203                       </td><td>-0.5493198                 </td><td> 0.025556702               </td><td>0.057698599                </td><td> 0.03772213                </td><td>0.02669967                 </td><td>0.008840996                </td><td>0.03395766                 </td><td>...                        </td><td> 0.02973817                </td><td>0.02664580                 </td><td>0.008534264                </td><td>0.02932782                 </td><td>0.04953226                 </td><td>N                          </td><td>36.629881                  </td><td>-119.30945                 </td><td>Elementary                 </td><td>Kings Canyon Joint Unified </td></tr>\n",
       "\t<tr><td>A. M. Winn Waldorf-Inspired</td><td>CA                         </td><td>3771                       </td><td>-0.5503489                 </td><td>-0.035372641               </td><td>0.007705477                </td><td> 0.11651859                </td><td>0.02675090                 </td><td>0.008564356                </td><td>0.01868914                 </td><td>...                        </td><td> 0.10043028                </td><td>0.02646339                 </td><td>0.008256189                </td><td>0.01778388                 </td><td>0.04583943                 </td><td>N                          </td><td>38.566539                  </td><td>-121.32497                 </td><td>Elementary                 </td><td>Sacramento City Unified    </td></tr>\n",
       "\t<tr><td>ACORN Woodland Elementary  </td><td>CA                         </td><td>2166                       </td><td>-0.2577003                 </td><td>-0.026600789               </td><td>0.059886600                </td><td> 0.00598175                </td><td>0.02881002                 </td><td>0.009497497                </td><td>0.03731055                 </td><td>...                        </td><td> 0.00695927                </td><td>0.02874990                 </td><td>0.009113085                </td><td>0.03141492                 </td><td>0.05289405                 </td><td>N                          </td><td>37.752862                  </td><td>-122.18605                 </td><td>Elementary                 </td><td>Oakland Unified            </td></tr>\n",
       "</tbody>\n",
       "</table>\n"
      ],
      "text/latex": [
       "\\begin{tabular}{r|llllllllllllllllllllllll}\n",
       " School & stateabb & tot\\_asmts & cs\\_mn\\_avg\\_ol & cs\\_mn\\_coh\\_ol & cs\\_mn\\_grd\\_ol & cs\\_mn\\_mth\\_ol & cs\\_mn\\_avg\\_ol\\_se & cs\\_mn\\_coh\\_ol\\_se & cs\\_mn\\_grd\\_ol\\_se & ... & cs\\_mn\\_mth\\_eb & cs\\_mn\\_avg\\_eb\\_se & cs\\_mn\\_coh\\_eb\\_se & cs\\_mn\\_grd\\_eb\\_se & cs\\_mn\\_mth\\_eb\\_se & Charter & Latitude & Longitude & EILName & District\\\\\n",
       "\\hline\n",
       "\t A. E. Arnold Elementary     & CA                          & 7593                        &  0.2559182                  &  0.021824821                & 0.066488788                 & -0.01646314                 & 0.02229070                  & 0.007333276                 & 0.02117757                  & ...                         & -0.01316489                 & 0.02225694                  & 0.007150848                 & 0.01997353                  & 0.04221594                  & N                           & 33.826825                   & -118.05576                  & Elementary                  & Cypress Elementary         \\\\\n",
       "\t A. G. Cook Elementary       & CA                          & 3802                        &  0.3072644                  &  0.106203990                & 0.075156635                 &  0.18127809                 & 0.02423982                  & 0.008039868                 & 0.02282817                  & ...                         &  0.16067999                 & 0.02420183                  & 0.007805582                 & 0.02133288                  & 0.04549659                  & N                           & 33.763632                   & -117.95840                  & Elementary                  & Garden Grove Unified       \\\\\n",
       "\t A. J. Dorsa Elementary      & CA                          & 4459                        & -0.5904406                  & -0.009485188                & 0.073868214                 &  0.08848730                 & 0.02746552                  & 0.009225629                 & 0.03411214                  & ...                         &  0.07351242                 & 0.02740213                  & 0.008876019                 & 0.02948585                  & 0.05056527                  & N                           & 37.339098                   & -121.83791                  & Elementary                  & Alum Rock Union Elementary \\\\\n",
       "\t A. L. Conner Elementary     & CA                          & 3203                        & -0.5493198                  &  0.025556702                & 0.057698599                 &  0.03772213                 & 0.02669967                  & 0.008840996                 & 0.03395766                  & ...                         &  0.02973817                 & 0.02664580                  & 0.008534264                 & 0.02932782                  & 0.04953226                  & N                           & 36.629881                   & -119.30945                  & Elementary                  & Kings Canyon Joint Unified \\\\\n",
       "\t A. M. Winn Waldorf-Inspired & CA                          & 3771                        & -0.5503489                  & -0.035372641                & 0.007705477                 &  0.11651859                 & 0.02675090                  & 0.008564356                 & 0.01868914                  & ...                         &  0.10043028                 & 0.02646339                  & 0.008256189                 & 0.01778388                  & 0.04583943                  & N                           & 38.566539                   & -121.32497                  & Elementary                  & Sacramento City Unified    \\\\\n",
       "\t ACORN Woodland Elementary   & CA                          & 2166                        & -0.2577003                  & -0.026600789                & 0.059886600                 &  0.00598175                 & 0.02881002                  & 0.009497497                 & 0.03731055                  & ...                         &  0.00695927                 & 0.02874990                  & 0.009113085                 & 0.03141492                  & 0.05289405                  & N                           & 37.752862                   & -122.18605                  & Elementary                  & Oakland Unified            \\\\\n",
       "\\end{tabular}\n"
      ],
      "text/markdown": [
       "\n",
       "| School | stateabb | tot_asmts | cs_mn_avg_ol | cs_mn_coh_ol | cs_mn_grd_ol | cs_mn_mth_ol | cs_mn_avg_ol_se | cs_mn_coh_ol_se | cs_mn_grd_ol_se | ... | cs_mn_mth_eb | cs_mn_avg_eb_se | cs_mn_coh_eb_se | cs_mn_grd_eb_se | cs_mn_mth_eb_se | Charter | Latitude | Longitude | EILName | District |\n",
       "|---|---|---|---|---|---|---|---|---|---|---|---|---|---|---|---|---|---|---|---|---|\n",
       "| A. E. Arnold Elementary     | CA                          | 7593                        |  0.2559182                  |  0.021824821                | 0.066488788                 | -0.01646314                 | 0.02229070                  | 0.007333276                 | 0.02117757                  | ...                         | -0.01316489                 | 0.02225694                  | 0.007150848                 | 0.01997353                  | 0.04221594                  | N                           | 33.826825                   | -118.05576                  | Elementary                  | Cypress Elementary          |\n",
       "| A. G. Cook Elementary       | CA                          | 3802                        |  0.3072644                  |  0.106203990                | 0.075156635                 |  0.18127809                 | 0.02423982                  | 0.008039868                 | 0.02282817                  | ...                         |  0.16067999                 | 0.02420183                  | 0.007805582                 | 0.02133288                  | 0.04549659                  | N                           | 33.763632                   | -117.95840                  | Elementary                  | Garden Grove Unified        |\n",
       "| A. J. Dorsa Elementary      | CA                          | 4459                        | -0.5904406                  | -0.009485188                | 0.073868214                 |  0.08848730                 | 0.02746552                  | 0.009225629                 | 0.03411214                  | ...                         |  0.07351242                 | 0.02740213                  | 0.008876019                 | 0.02948585                  | 0.05056527                  | N                           | 37.339098                   | -121.83791                  | Elementary                  | Alum Rock Union Elementary  |\n",
       "| A. L. Conner Elementary     | CA                          | 3203                        | -0.5493198                  |  0.025556702                | 0.057698599                 |  0.03772213                 | 0.02669967                  | 0.008840996                 | 0.03395766                  | ...                         |  0.02973817                 | 0.02664580                  | 0.008534264                 | 0.02932782                  | 0.04953226                  | N                           | 36.629881                   | -119.30945                  | Elementary                  | Kings Canyon Joint Unified  |\n",
       "| A. M. Winn Waldorf-Inspired | CA                          | 3771                        | -0.5503489                  | -0.035372641                | 0.007705477                 |  0.11651859                 | 0.02675090                  | 0.008564356                 | 0.01868914                  | ...                         |  0.10043028                 | 0.02646339                  | 0.008256189                 | 0.01778388                  | 0.04583943                  | N                           | 38.566539                   | -121.32497                  | Elementary                  | Sacramento City Unified     |\n",
       "| ACORN Woodland Elementary   | CA                          | 2166                        | -0.2577003                  | -0.026600789                | 0.059886600                 |  0.00598175                 | 0.02881002                  | 0.009497497                 | 0.03731055                  | ...                         |  0.00695927                 | 0.02874990                  | 0.009113085                 | 0.03141492                  | 0.05289405                  | N                           | 37.752862                   | -122.18605                  | Elementary                  | Oakland Unified             |\n",
       "\n"
      ],
      "text/plain": [
       "  School                      stateabb tot_asmts cs_mn_avg_ol cs_mn_coh_ol\n",
       "1 A. E. Arnold Elementary     CA       7593       0.2559182    0.021824821\n",
       "2 A. G. Cook Elementary       CA       3802       0.3072644    0.106203990\n",
       "3 A. J. Dorsa Elementary      CA       4459      -0.5904406   -0.009485188\n",
       "4 A. L. Conner Elementary     CA       3203      -0.5493198    0.025556702\n",
       "5 A. M. Winn Waldorf-Inspired CA       3771      -0.5503489   -0.035372641\n",
       "6 ACORN Woodland Elementary   CA       2166      -0.2577003   -0.026600789\n",
       "  cs_mn_grd_ol cs_mn_mth_ol cs_mn_avg_ol_se cs_mn_coh_ol_se cs_mn_grd_ol_se ...\n",
       "1 0.066488788  -0.01646314  0.02229070      0.007333276     0.02117757      ...\n",
       "2 0.075156635   0.18127809  0.02423982      0.008039868     0.02282817      ...\n",
       "3 0.073868214   0.08848730  0.02746552      0.009225629     0.03411214      ...\n",
       "4 0.057698599   0.03772213  0.02669967      0.008840996     0.03395766      ...\n",
       "5 0.007705477   0.11651859  0.02675090      0.008564356     0.01868914      ...\n",
       "6 0.059886600   0.00598175  0.02881002      0.009497497     0.03731055      ...\n",
       "  cs_mn_mth_eb cs_mn_avg_eb_se cs_mn_coh_eb_se cs_mn_grd_eb_se cs_mn_mth_eb_se\n",
       "1 -0.01316489  0.02225694      0.007150848     0.01997353      0.04221594     \n",
       "2  0.16067999  0.02420183      0.007805582     0.02133288      0.04549659     \n",
       "3  0.07351242  0.02740213      0.008876019     0.02948585      0.05056527     \n",
       "4  0.02973817  0.02664580      0.008534264     0.02932782      0.04953226     \n",
       "5  0.10043028  0.02646339      0.008256189     0.01778388      0.04583943     \n",
       "6  0.00695927  0.02874990      0.009113085     0.03141492      0.05289405     \n",
       "  Charter Latitude  Longitude  EILName    District                  \n",
       "1 N       33.826825 -118.05576 Elementary Cypress Elementary        \n",
       "2 N       33.763632 -117.95840 Elementary Garden Grove Unified      \n",
       "3 N       37.339098 -121.83791 Elementary Alum Rock Union Elementary\n",
       "4 N       36.629881 -119.30945 Elementary Kings Canyon Joint Unified\n",
       "5 N       38.566539 -121.32497 Elementary Sacramento City Unified   \n",
       "6 N       37.752862 -122.18605 Elementary Oakland Unified           "
      ]
     },
     "metadata": {},
     "output_type": "display_data"
    },
    {
     "data": {
      "text/html": [
       "<ol class=list-inline>\n",
       "\t<li>'School'</li>\n",
       "\t<li>'stateabb'</li>\n",
       "\t<li>'tot_asmts'</li>\n",
       "\t<li>'cs_mn_avg_ol'</li>\n",
       "\t<li>'cs_mn_coh_ol'</li>\n",
       "\t<li>'cs_mn_grd_ol'</li>\n",
       "\t<li>'cs_mn_mth_ol'</li>\n",
       "\t<li>'cs_mn_avg_ol_se'</li>\n",
       "\t<li>'cs_mn_coh_ol_se'</li>\n",
       "\t<li>'cs_mn_grd_ol_se'</li>\n",
       "\t<li>'cs_mn_mth_ol_se'</li>\n",
       "\t<li>'cs_mn_avg_eb'</li>\n",
       "\t<li>'cs_mn_coh_eb'</li>\n",
       "\t<li>'cs_mn_grd_eb'</li>\n",
       "\t<li>'cs_mn_mth_eb'</li>\n",
       "\t<li>'cs_mn_avg_eb_se'</li>\n",
       "\t<li>'cs_mn_coh_eb_se'</li>\n",
       "\t<li>'cs_mn_grd_eb_se'</li>\n",
       "\t<li>'cs_mn_mth_eb_se'</li>\n",
       "\t<li>'Charter'</li>\n",
       "\t<li>'Latitude'</li>\n",
       "\t<li>'Longitude'</li>\n",
       "\t<li>'EILName'</li>\n",
       "\t<li>'District'</li>\n",
       "</ol>\n"
      ],
      "text/latex": [
       "\\begin{enumerate*}\n",
       "\\item 'School'\n",
       "\\item 'stateabb'\n",
       "\\item 'tot\\_asmts'\n",
       "\\item 'cs\\_mn\\_avg\\_ol'\n",
       "\\item 'cs\\_mn\\_coh\\_ol'\n",
       "\\item 'cs\\_mn\\_grd\\_ol'\n",
       "\\item 'cs\\_mn\\_mth\\_ol'\n",
       "\\item 'cs\\_mn\\_avg\\_ol\\_se'\n",
       "\\item 'cs\\_mn\\_coh\\_ol\\_se'\n",
       "\\item 'cs\\_mn\\_grd\\_ol\\_se'\n",
       "\\item 'cs\\_mn\\_mth\\_ol\\_se'\n",
       "\\item 'cs\\_mn\\_avg\\_eb'\n",
       "\\item 'cs\\_mn\\_coh\\_eb'\n",
       "\\item 'cs\\_mn\\_grd\\_eb'\n",
       "\\item 'cs\\_mn\\_mth\\_eb'\n",
       "\\item 'cs\\_mn\\_avg\\_eb\\_se'\n",
       "\\item 'cs\\_mn\\_coh\\_eb\\_se'\n",
       "\\item 'cs\\_mn\\_grd\\_eb\\_se'\n",
       "\\item 'cs\\_mn\\_mth\\_eb\\_se'\n",
       "\\item 'Charter'\n",
       "\\item 'Latitude'\n",
       "\\item 'Longitude'\n",
       "\\item 'EILName'\n",
       "\\item 'District'\n",
       "\\end{enumerate*}\n"
      ],
      "text/markdown": [
       "1. 'School'\n",
       "2. 'stateabb'\n",
       "3. 'tot_asmts'\n",
       "4. 'cs_mn_avg_ol'\n",
       "5. 'cs_mn_coh_ol'\n",
       "6. 'cs_mn_grd_ol'\n",
       "7. 'cs_mn_mth_ol'\n",
       "8. 'cs_mn_avg_ol_se'\n",
       "9. 'cs_mn_coh_ol_se'\n",
       "10. 'cs_mn_grd_ol_se'\n",
       "11. 'cs_mn_mth_ol_se'\n",
       "12. 'cs_mn_avg_eb'\n",
       "13. 'cs_mn_coh_eb'\n",
       "14. 'cs_mn_grd_eb'\n",
       "15. 'cs_mn_mth_eb'\n",
       "16. 'cs_mn_avg_eb_se'\n",
       "17. 'cs_mn_coh_eb_se'\n",
       "18. 'cs_mn_grd_eb_se'\n",
       "19. 'cs_mn_mth_eb_se'\n",
       "20. 'Charter'\n",
       "21. 'Latitude'\n",
       "22. 'Longitude'\n",
       "23. 'EILName'\n",
       "24. 'District'\n",
       "\n",
       "\n"
      ],
      "text/plain": [
       " [1] \"School\"          \"stateabb\"        \"tot_asmts\"       \"cs_mn_avg_ol\"   \n",
       " [5] \"cs_mn_coh_ol\"    \"cs_mn_grd_ol\"    \"cs_mn_mth_ol\"    \"cs_mn_avg_ol_se\"\n",
       " [9] \"cs_mn_coh_ol_se\" \"cs_mn_grd_ol_se\" \"cs_mn_mth_ol_se\" \"cs_mn_avg_eb\"   \n",
       "[13] \"cs_mn_coh_eb\"    \"cs_mn_grd_eb\"    \"cs_mn_mth_eb\"    \"cs_mn_avg_eb_se\"\n",
       "[17] \"cs_mn_coh_eb_se\" \"cs_mn_grd_eb_se\" \"cs_mn_mth_eb_se\" \"Charter\"        \n",
       "[21] \"Latitude\"        \"Longitude\"       \"EILName\"         \"District\"       "
      ]
     },
     "metadata": {},
     "output_type": "display_data"
    }
   ],
   "source": [
    "df <- merge(seda_data_for_public_schools, public_school_location_info,by=\"School\")\n",
    "head(df)\n",
    "colnames(df)"
   ]
  },
  {
   "cell_type": "markdown",
   "id": "149f2ca6",
   "metadata": {},
   "source": [
    "### Walkability data"
   ]
  },
  {
   "cell_type": "code",
   "execution_count": 108,
   "id": "144b9438",
   "metadata": {},
   "outputs": [
    {
     "data": {
      "text/html": [
       "<table>\n",
       "<thead><tr><th scope=col>OBJECTID</th><th scope=col>GEOID10</th><th scope=col>GEOID20</th><th scope=col>STATEFP</th><th scope=col>COUNTYFP</th><th scope=col>TRACTCE</th><th scope=col>BLKGRPCE</th><th scope=col>CSA</th><th scope=col>CSA_Name</th><th scope=col>CBSA</th><th scope=col>...</th><th scope=col>D5DRI</th><th scope=col>D5DE</th><th scope=col>D5DEI</th><th scope=col>D2A_Ranked</th><th scope=col>D2B_Ranked</th><th scope=col>D3B_Ranked</th><th scope=col>D4A_Ranked</th><th scope=col>NatWalkInd</th><th scope=col>Shape_Length</th><th scope=col>Shape_Area</th></tr></thead>\n",
       "<tbody>\n",
       "\t<tr><td>1                       </td><td>4.8113e+11              </td><td>4.8113e+11              </td><td>48                      </td><td>113                     </td><td>7825                    </td><td>4                       </td><td>206                     </td><td>Dallas-Fort Worth, TX-OK</td><td>19100                   </td><td>...                     </td><td>0.1846967               </td><td>0.000475598             </td><td>0.1377067               </td><td> 6                      </td><td>14                      </td><td>15                      </td><td>17                      </td><td>14.000000               </td><td>3110.361                </td><td>297836.1                </td></tr>\n",
       "\t<tr><td>2                       </td><td>4.8113e+11              </td><td>4.8113e+11              </td><td>48                      </td><td>113                     </td><td>7825                    </td><td>2                       </td><td>206                     </td><td>Dallas-Fort Worth, TX-OK</td><td>19100                   </td><td>...                     </td><td>0.3232213               </td><td>0.000800804             </td><td>0.2318678               </td><td> 3                      </td><td>10                      </td><td>12                      </td><td>14                      </td><td>10.833333               </td><td>3519.469                </td><td>484945.1                </td></tr>\n",
       "\t<tr><td>3                       </td><td>4.8113e+11              </td><td>4.8113e+11              </td><td>48                      </td><td>113                     </td><td>7825                    </td><td>3                       </td><td>206                     </td><td>Dallas-Fort Worth, TX-OK</td><td>19100                   </td><td>...                     </td><td>0.3146279               </td><td>0.000736145             </td><td>0.2131463               </td><td> 1                      </td><td> 1                      </td><td> 7                      </td><td>17                      </td><td> 8.333333               </td><td>1697.092                </td><td>106705.9                </td></tr>\n",
       "\t<tr><td>4                       </td><td>4.8113e+11              </td><td>4.8113e+11              </td><td>48                      </td><td>113                     </td><td>7824                    </td><td>1                       </td><td>206                     </td><td>Dallas-Fort Worth, TX-OK</td><td>19100                   </td><td>...                     </td><td>0.2298209               </td><td>0.000708073             </td><td>0.2050183               </td><td>16                      </td><td>10                      </td><td>17                      </td><td>17                      </td><td>15.666667               </td><td>2922.609                </td><td>481828.4                </td></tr>\n",
       "\t<tr><td>5                       </td><td>4.8113e+11              </td><td>4.8113e+11              </td><td>48                      </td><td>113                     </td><td>7824                    </td><td>2                       </td><td>206                     </td><td>Dallas-Fort Worth, TX-OK</td><td>19100                   </td><td>...                     </td><td>0.1648628               </td><td>0.000432736             </td><td>0.1252960               </td><td> 4                      </td><td> 7                      </td><td>11                      </td><td>14                      </td><td>10.166667               </td><td>3731.972                </td><td>687684.8                </td></tr>\n",
       "\t<tr><td>6                       </td><td>4.8113e+11              </td><td>4.8113e+11              </td><td>48                      </td><td>113                     </td><td>7827                    </td><td>1                       </td><td>206                     </td><td>Dallas-Fort Worth, TX-OK</td><td>19100                   </td><td>...                     </td><td>0.1890630               </td><td>0.000467412             </td><td>0.1353362               </td><td> 1                      </td><td> 4                      </td><td> 5                      </td><td>13                      </td><td> 6.833333               </td><td>3109.652                </td><td>205126.8                </td></tr>\n",
       "</tbody>\n",
       "</table>\n"
      ],
      "text/latex": [
       "\\begin{tabular}{r|lllllllllllllllllllllllllllllllllllllllllllllllllllllllllllllllllllllllllllllllllllllllllllllllllllllllllllllllllllll}\n",
       " OBJECTID & GEOID10 & GEOID20 & STATEFP & COUNTYFP & TRACTCE & BLKGRPCE & CSA & CSA\\_Name & CBSA & ... & D5DRI & D5DE & D5DEI & D2A\\_Ranked & D2B\\_Ranked & D3B\\_Ranked & D4A\\_Ranked & NatWalkInd & Shape\\_Length & Shape\\_Area\\\\\n",
       "\\hline\n",
       "\t 1                        & 4.8113e+11               & 4.8113e+11               & 48                       & 113                      & 7825                     & 4                        & 206                      & Dallas-Fort Worth, TX-OK & 19100                    & ...                      & 0.1846967                & 0.000475598              & 0.1377067                &  6                       & 14                       & 15                       & 17                       & 14.000000                & 3110.361                 & 297836.1                \\\\\n",
       "\t 2                        & 4.8113e+11               & 4.8113e+11               & 48                       & 113                      & 7825                     & 2                        & 206                      & Dallas-Fort Worth, TX-OK & 19100                    & ...                      & 0.3232213                & 0.000800804              & 0.2318678                &  3                       & 10                       & 12                       & 14                       & 10.833333                & 3519.469                 & 484945.1                \\\\\n",
       "\t 3                        & 4.8113e+11               & 4.8113e+11               & 48                       & 113                      & 7825                     & 3                        & 206                      & Dallas-Fort Worth, TX-OK & 19100                    & ...                      & 0.3146279                & 0.000736145              & 0.2131463                &  1                       &  1                       &  7                       & 17                       &  8.333333                & 1697.092                 & 106705.9                \\\\\n",
       "\t 4                        & 4.8113e+11               & 4.8113e+11               & 48                       & 113                      & 7824                     & 1                        & 206                      & Dallas-Fort Worth, TX-OK & 19100                    & ...                      & 0.2298209                & 0.000708073              & 0.2050183                & 16                       & 10                       & 17                       & 17                       & 15.666667                & 2922.609                 & 481828.4                \\\\\n",
       "\t 5                        & 4.8113e+11               & 4.8113e+11               & 48                       & 113                      & 7824                     & 2                        & 206                      & Dallas-Fort Worth, TX-OK & 19100                    & ...                      & 0.1648628                & 0.000432736              & 0.1252960                &  4                       &  7                       & 11                       & 14                       & 10.166667                & 3731.972                 & 687684.8                \\\\\n",
       "\t 6                        & 4.8113e+11               & 4.8113e+11               & 48                       & 113                      & 7827                     & 1                        & 206                      & Dallas-Fort Worth, TX-OK & 19100                    & ...                      & 0.1890630                & 0.000467412              & 0.1353362                &  1                       &  4                       &  5                       & 13                       &  6.833333                & 3109.652                 & 205126.8                \\\\\n",
       "\\end{tabular}\n"
      ],
      "text/markdown": [
       "\n",
       "| OBJECTID | GEOID10 | GEOID20 | STATEFP | COUNTYFP | TRACTCE | BLKGRPCE | CSA | CSA_Name | CBSA | ... | D5DRI | D5DE | D5DEI | D2A_Ranked | D2B_Ranked | D3B_Ranked | D4A_Ranked | NatWalkInd | Shape_Length | Shape_Area |\n",
       "|---|---|---|---|---|---|---|---|---|---|---|---|---|---|---|---|---|---|---|---|---|\n",
       "| 1                        | 4.8113e+11               | 4.8113e+11               | 48                       | 113                      | 7825                     | 4                        | 206                      | Dallas-Fort Worth, TX-OK | 19100                    | ...                      | 0.1846967                | 0.000475598              | 0.1377067                |  6                       | 14                       | 15                       | 17                       | 14.000000                | 3110.361                 | 297836.1                 |\n",
       "| 2                        | 4.8113e+11               | 4.8113e+11               | 48                       | 113                      | 7825                     | 2                        | 206                      | Dallas-Fort Worth, TX-OK | 19100                    | ...                      | 0.3232213                | 0.000800804              | 0.2318678                |  3                       | 10                       | 12                       | 14                       | 10.833333                | 3519.469                 | 484945.1                 |\n",
       "| 3                        | 4.8113e+11               | 4.8113e+11               | 48                       | 113                      | 7825                     | 3                        | 206                      | Dallas-Fort Worth, TX-OK | 19100                    | ...                      | 0.3146279                | 0.000736145              | 0.2131463                |  1                       |  1                       |  7                       | 17                       |  8.333333                | 1697.092                 | 106705.9                 |\n",
       "| 4                        | 4.8113e+11               | 4.8113e+11               | 48                       | 113                      | 7824                     | 1                        | 206                      | Dallas-Fort Worth, TX-OK | 19100                    | ...                      | 0.2298209                | 0.000708073              | 0.2050183                | 16                       | 10                       | 17                       | 17                       | 15.666667                | 2922.609                 | 481828.4                 |\n",
       "| 5                        | 4.8113e+11               | 4.8113e+11               | 48                       | 113                      | 7824                     | 2                        | 206                      | Dallas-Fort Worth, TX-OK | 19100                    | ...                      | 0.1648628                | 0.000432736              | 0.1252960                |  4                       |  7                       | 11                       | 14                       | 10.166667                | 3731.972                 | 687684.8                 |\n",
       "| 6                        | 4.8113e+11               | 4.8113e+11               | 48                       | 113                      | 7827                     | 1                        | 206                      | Dallas-Fort Worth, TX-OK | 19100                    | ...                      | 0.1890630                | 0.000467412              | 0.1353362                |  1                       |  4                       |  5                       | 13                       |  6.833333                | 3109.652                 | 205126.8                 |\n",
       "\n"
      ],
      "text/plain": [
       "  OBJECTID GEOID10    GEOID20    STATEFP COUNTYFP TRACTCE BLKGRPCE CSA\n",
       "1 1        4.8113e+11 4.8113e+11 48      113      7825    4        206\n",
       "2 2        4.8113e+11 4.8113e+11 48      113      7825    2        206\n",
       "3 3        4.8113e+11 4.8113e+11 48      113      7825    3        206\n",
       "4 4        4.8113e+11 4.8113e+11 48      113      7824    1        206\n",
       "5 5        4.8113e+11 4.8113e+11 48      113      7824    2        206\n",
       "6 6        4.8113e+11 4.8113e+11 48      113      7827    1        206\n",
       "  CSA_Name                 CBSA  ... D5DRI     D5DE        D5DEI     D2A_Ranked\n",
       "1 Dallas-Fort Worth, TX-OK 19100 ... 0.1846967 0.000475598 0.1377067  6        \n",
       "2 Dallas-Fort Worth, TX-OK 19100 ... 0.3232213 0.000800804 0.2318678  3        \n",
       "3 Dallas-Fort Worth, TX-OK 19100 ... 0.3146279 0.000736145 0.2131463  1        \n",
       "4 Dallas-Fort Worth, TX-OK 19100 ... 0.2298209 0.000708073 0.2050183 16        \n",
       "5 Dallas-Fort Worth, TX-OK 19100 ... 0.1648628 0.000432736 0.1252960  4        \n",
       "6 Dallas-Fort Worth, TX-OK 19100 ... 0.1890630 0.000467412 0.1353362  1        \n",
       "  D2B_Ranked D3B_Ranked D4A_Ranked NatWalkInd Shape_Length Shape_Area\n",
       "1 14         15         17         14.000000  3110.361     297836.1  \n",
       "2 10         12         14         10.833333  3519.469     484945.1  \n",
       "3  1          7         17          8.333333  1697.092     106705.9  \n",
       "4 10         17         17         15.666667  2922.609     481828.4  \n",
       "5  7         11         14         10.166667  3731.972     687684.8  \n",
       "6  4          5         13          6.833333  3109.652     205126.8  "
      ]
     },
     "metadata": {},
     "output_type": "display_data"
    },
    {
     "data": {
      "text/html": [
       "<table>\n",
       "<thead><tr><th scope=col>COUNTYFP</th><th scope=col>TRACTCE</th><th scope=col>NatWalkInd</th><th scope=col>CSA_Name</th><th scope=col>TotPop</th><th scope=col>Ac_Total</th><th scope=col>Ac_Land</th><th scope=col>Ac_Unpr</th><th scope=col>AutoOwn0</th></tr></thead>\n",
       "<tbody>\n",
       "\t<tr><td>53                                </td><td> 11101                            </td><td>12.833333                         </td><td>                                  </td><td>3226                              </td><td>   346.01759                      </td><td>   345.90491                      </td><td> 339.58397                        </td><td>80                                </td></tr>\n",
       "\t<tr><td>53                                </td><td> 11102                            </td><td>15.333333                         </td><td>                                  </td><td>4144                              </td><td>   358.70593                      </td><td>   358.70593                      </td><td> 351.93580                        </td><td>14                                </td></tr>\n",
       "\t<tr><td>97                                </td><td>151308                            </td><td>13.666667                         </td><td>San Jose-San Francisco-Oakland, CA</td><td> 396                              </td><td>    67.13559                      </td><td>    67.13559                      </td><td>  60.29173                        </td><td> 0                                </td></tr>\n",
       "\t<tr><td>51                                </td><td>   102                            </td><td> 8.000000                         </td><td>                                  </td><td> 935                              </td><td>107095.36710                      </td><td>107046.04320                      </td><td>6959.85118                        </td><td>24                                </td></tr>\n",
       "\t<tr><td>97                                </td><td>151309                            </td><td>10.666667                         </td><td>San Jose-San Francisco-Oakland, CA</td><td>2560                              </td><td>   570.03721                      </td><td>   570.03721                      </td><td> 471.33595                        </td><td> 8                                </td></tr>\n",
       "\t<tr><td>97                                </td><td>151309                            </td><td> 9.833333                         </td><td>San Jose-San Francisco-Oakland, CA</td><td>1610                              </td><td>   982.99741                      </td><td>   982.99741                      </td><td> 982.84633                        </td><td>77                                </td></tr>\n",
       "</tbody>\n",
       "</table>\n"
      ],
      "text/latex": [
       "\\begin{tabular}{r|lllllllll}\n",
       " COUNTYFP & TRACTCE & NatWalkInd & CSA\\_Name & TotPop & Ac\\_Total & Ac\\_Land & Ac\\_Unpr & AutoOwn0\\\\\n",
       "\\hline\n",
       "\t 53                                 &  11101                             & 12.833333                          &                                    & 3226                               &    346.01759                       &    345.90491                       &  339.58397                         & 80                                \\\\\n",
       "\t 53                                 &  11102                             & 15.333333                          &                                    & 4144                               &    358.70593                       &    358.70593                       &  351.93580                         & 14                                \\\\\n",
       "\t 97                                 & 151308                             & 13.666667                          & San Jose-San Francisco-Oakland, CA &  396                               &     67.13559                       &     67.13559                       &   60.29173                         &  0                                \\\\\n",
       "\t 51                                 &    102                             &  8.000000                          &                                    &  935                               & 107095.36710                       & 107046.04320                       & 6959.85118                         & 24                                \\\\\n",
       "\t 97                                 & 151309                             & 10.666667                          & San Jose-San Francisco-Oakland, CA & 2560                               &    570.03721                       &    570.03721                       &  471.33595                         &  8                                \\\\\n",
       "\t 97                                 & 151309                             &  9.833333                          & San Jose-San Francisco-Oakland, CA & 1610                               &    982.99741                       &    982.99741                       &  982.84633                         & 77                                \\\\\n",
       "\\end{tabular}\n"
      ],
      "text/markdown": [
       "\n",
       "| COUNTYFP | TRACTCE | NatWalkInd | CSA_Name | TotPop | Ac_Total | Ac_Land | Ac_Unpr | AutoOwn0 |\n",
       "|---|---|---|---|---|---|---|---|---|\n",
       "| 53                                 |  11101                             | 12.833333                          |                                    | 3226                               |    346.01759                       |    345.90491                       |  339.58397                         | 80                                 |\n",
       "| 53                                 |  11102                             | 15.333333                          |                                    | 4144                               |    358.70593                       |    358.70593                       |  351.93580                         | 14                                 |\n",
       "| 97                                 | 151308                             | 13.666667                          | San Jose-San Francisco-Oakland, CA |  396                               |     67.13559                       |     67.13559                       |   60.29173                         |  0                                 |\n",
       "| 51                                 |    102                             |  8.000000                          |                                    |  935                               | 107095.36710                       | 107046.04320                       | 6959.85118                         | 24                                 |\n",
       "| 97                                 | 151309                             | 10.666667                          | San Jose-San Francisco-Oakland, CA | 2560                               |    570.03721                       |    570.03721                       |  471.33595                         |  8                                 |\n",
       "| 97                                 | 151309                             |  9.833333                          | San Jose-San Francisco-Oakland, CA | 1610                               |    982.99741                       |    982.99741                       |  982.84633                         | 77                                 |\n",
       "\n"
      ],
      "text/plain": [
       "  COUNTYFP TRACTCE NatWalkInd CSA_Name                           TotPop\n",
       "1 53        11101  12.833333                                     3226  \n",
       "2 53        11102  15.333333                                     4144  \n",
       "3 97       151308  13.666667  San Jose-San Francisco-Oakland, CA  396  \n",
       "4 51          102   8.000000                                      935  \n",
       "5 97       151309  10.666667  San Jose-San Francisco-Oakland, CA 2560  \n",
       "6 97       151309   9.833333  San Jose-San Francisco-Oakland, CA 1610  \n",
       "  Ac_Total     Ac_Land      Ac_Unpr    AutoOwn0\n",
       "1    346.01759    345.90491  339.58397 80      \n",
       "2    358.70593    358.70593  351.93580 14      \n",
       "3     67.13559     67.13559   60.29173  0      \n",
       "4 107095.36710 107046.04320 6959.85118 24      \n",
       "5    570.03721    570.03721  471.33595  8      \n",
       "6    982.99741    982.99741  982.84633 77      "
      ]
     },
     "metadata": {},
     "output_type": "display_data"
    }
   ],
   "source": [
    "walkability_data <- read.csv(\"EPA_SmartLocationDatabase_V3_Jan_2021_Final.csv\")\n",
    "head(walkability_data)\n",
    "walkability_data = select(walkability_data, \"STATEFP\", \"COUNTYFP\", \"TRACTCE\", \"NatWalkInd\", \"CSA_Name\", \"TotPop\", \"Ac_Total\", \"Ac_Land\", \"Ac_Unpr\", \"AutoOwn0\")\n",
    "walkability_data <- filter(walkability_data, STATEFP == 6) # 6 = CA\n",
    "walkability_data = select(walkability_data, -\"STATEFP\")\n",
    "head(walkability_data)"
   ]
  },
  {
   "cell_type": "code",
   "execution_count": 107,
   "id": "3b736078",
   "metadata": {},
   "outputs": [],
   "source": [
    "# 060670090041017\n",
    "# filter(walkability_data, TRACTCE == 000102)"
   ]
  },
  {
   "cell_type": "markdown",
   "id": "305e79d2",
   "metadata": {},
   "source": [
    "### Request tract info with lat and lon data "
   ]
  },
  {
   "cell_type": "code",
   "execution_count": 92,
   "id": "1fff68c0",
   "metadata": {},
   "outputs": [
    {
     "name": "stderr",
     "output_type": "stream",
     "text": [
      "\n",
      "Attaching package: ‘jsonlite’\n",
      "\n",
      "The following object is masked from ‘package:purrr’:\n",
      "\n",
      "    flatten\n",
      "\n"
     ]
    }
   ],
   "source": [
    "library(httr)\n",
    "library(jsonlite)"
   ]
  },
  {
   "cell_type": "code",
   "execution_count": 150,
   "id": "b8d80e08",
   "metadata": {},
   "outputs": [],
   "source": [
    "get_FIPS <- function(lat, lon) {\n",
    "    req = str_interp(\"https://geo.fcc.gov/api/census/block/find?latitude=${lat}&longitude=${lon}&censusYear=2010&showall=false&format=json\", list(lat = lat, lon = lon))\n",
    "    res <- GET(req)\n",
    "    jsondata=fromJSON(rawToChar(res$content))\n",
    "    return(jsondata$Block$FIPS)\n",
    "}"
   ]
  },
  {
   "cell_type": "code",
   "execution_count": null,
   "id": "69562770",
   "metadata": {},
   "outputs": [],
   "source": [
    "df_size = nrow(df)\n",
    "fips_col = rep(NA, df_size)\n",
    "for (i in 1:df_size) {\n",
    "    row = df[i, ]\n",
    "    fips_value = get_FIPS(row$Latitude, row$Longitude)\n",
    "    fips_col[i] <- fips_value\n",
    "}\n",
    "df = cbind(df, fips_col)\n",
    "df"
   ]
  },
  {
   "cell_type": "code",
   "execution_count": null,
   "id": "3ea2cd76",
   "metadata": {},
   "outputs": [],
   "source": []
  }
 ],
 "metadata": {
  "kernelspec": {
   "display_name": "R",
   "language": "R",
   "name": "ir"
  },
  "language_info": {
   "codemirror_mode": "r",
   "file_extension": ".r",
   "mimetype": "text/x-r-source",
   "name": "R",
   "pygments_lexer": "r",
   "version": "3.6.1"
  }
 },
 "nbformat": 4,
 "nbformat_minor": 5
}
